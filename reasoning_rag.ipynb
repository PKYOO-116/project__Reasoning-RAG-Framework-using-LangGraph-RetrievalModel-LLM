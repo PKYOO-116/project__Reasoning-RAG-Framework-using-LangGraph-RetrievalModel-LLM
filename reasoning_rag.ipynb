{
 "cells": [
  {
   "cell_type": "markdown",
   "id": "ec535d77",
   "metadata": {},
   "source": [
    "# %source reasongraph/bin/activate\n",
    "# %python -m pip install langchain langgraph langchain-docling langchain-qdrant langchain-text-splitters langchain-ollamas"
   ]
  },
  {
   "cell_type": "code",
   "execution_count": 1,
   "id": "6510ce7b",
   "metadata": {},
   "outputs": [],
   "source": [
    "import warnings\n",
    "warnings.filterwarnings(\"ignore\")"
   ]
  },
  {
   "cell_type": "code",
   "execution_count": null,
   "id": "8fe2c17f",
   "metadata": {},
   "outputs": [],
   "source": [
    "from langchain_ollama import ChatOllama\n",
    "\n",
    "reasoning_llm = ChatOllama(\n",
    "    model=\"deepseek-r1:7b\",\n",
    "    stop=[\"</think>\"]\n",
    ")\n",
    "\n",
    "answer_llm = ChatOllama(\n",
    "    model=\"exaone3.5\",\n",
    "    temperature=0,\n",
    ")"
   ]
  },
  {
   "cell_type": "code",
   "execution_count": 7,
   "id": "9d31e194",
   "metadata": {},
   "outputs": [],
   "source": [
    "from typing import Annotated, List, TypedDict, Literal\n",
    "from langgraph.graph.message import add_messages\n",
    "from langchain_core.documents import Document"
   ]
  },
  {
   "cell_type": "code",
   "execution_count": 1,
   "id": "0b25e5fe",
   "metadata": {},
   "outputs": [
    {
     "ename": "NameError",
     "evalue": "name 'TypedDict' is not defined",
     "output_type": "error",
     "traceback": [
      "\u001b[31m---------------------------------------------------------------------------\u001b[39m",
      "\u001b[31mNameError\u001b[39m                                 Traceback (most recent call last)",
      "\u001b[36mCell\u001b[39m\u001b[36m \u001b[39m\u001b[32mIn[1]\u001b[39m\u001b[32m, line 1\u001b[39m\n\u001b[32m----> \u001b[39m\u001b[32m1\u001b[39m \u001b[38;5;28;01mclass\u001b[39;00m\u001b[38;5;250m \u001b[39m\u001b[34;01mRAGState\u001b[39;00m(\u001b[43mTypedDict\u001b[49m):\n\u001b[32m      2\u001b[39m     \u001b[38;5;66;03m# RAG SYSTEM\u001b[39;00m\n\u001b[32m      3\u001b[39m     query: \u001b[38;5;28mstr\u001b[39m \u001b[38;5;66;03m# User Question\u001b[39;00m\n\u001b[32m      4\u001b[39m     thinking: \u001b[38;5;28mstr\u001b[39m \u001b[38;5;66;03m# Reasoning process by LLM\u001b[39;00m\n",
      "\u001b[31mNameError\u001b[39m: name 'TypedDict' is not defined"
     ]
    }
   ],
   "source": [
    "class RAGState(TypedDict):\n",
    "    # RAG SYSTEM\n",
    "    query: str # User Question\n",
    "    thinking: str # Reasoning process by LLM\n",
    "    documents: list[Document] # Searched Doc\n",
    "    answer: str # Final Answer\n",
    "    messages: Annotated[List, add_messages]\n",
    "    mode: str"
   ]
  },
  {
   "cell_type": "code",
   "execution_count": null,
   "id": "ac64fea4",
   "metadata": {},
   "outputs": [],
   "source": [
    "from langchain_docling import DoclingLoader\n",
    "from langchain_docling.loader import ExportType\n",
    "\n",
    "FILE_PATH = \"\"\n",
    "\n",
    "loader = DoclingLoader(\n",
    "    file_path = FILE_PATH\n",
    "    export_type = ExportType.MARKDOWN\n",
    ")\n",
    "\n",
    "docs = loader.load()"
   ]
  },
  {
   "cell_type": "code",
   "execution_count": null,
   "id": "8b10a996",
   "metadata": {},
   "outputs": [],
   "source": [
    "from langchain_text_splitters import MarkdownHeaderTextSplitter"
   ]
  },
  {
   "cell_type": "code",
   "execution_count": null,
   "id": "efe4101a",
   "metadata": {},
   "outputs": [],
   "source": [
    "print"
   ]
  }
 ],
 "metadata": {
  "kernelspec": {
   "display_name": "reasongraph",
   "language": "python",
   "name": "python3"
  },
  "language_info": {
   "codemirror_mode": {
    "name": "ipython",
    "version": 3
   },
   "file_extension": ".py",
   "mimetype": "text/x-python",
   "name": "python",
   "nbconvert_exporter": "python",
   "pygments_lexer": "ipython3",
   "version": "3.12.3"
  }
 },
 "nbformat": 4,
 "nbformat_minor": 5
}
